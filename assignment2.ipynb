{
 "cells": [
  {
   "cell_type": "code",
   "execution_count": 4,
   "metadata": {},
   "outputs": [],
   "source": [
    "import cvxpy as cp\n",
    "import numpy as np\n",
    "import itertools\n",
    "from itertools import product as iters"
   ]
  },
  {
   "attachments": {},
   "cell_type": "markdown",
   "metadata": {},
   "source": [
    "$$\n",
    "B_n = \\sum_{i=1}^{n}\\left< A_i B_i\\right> + \\sum_{i=1}^{n-1}\\left< A_{i+1} B_j\\right> - \\left< A_1 B_n\\right>\n",
    "$$"
   ]
  },
  {
   "cell_type": "code",
   "execution_count": 126,
   "metadata": {},
   "outputs": [],
   "source": [
    "# Helper functions\n",
    "\n",
    "# Assumed inputs are a, b = [-1, 1] and x, y = 1 - n \n",
    "# Truth table for n = 2\n",
    "# a   b   x   y    index\n",
    "# -1 -1   1   1     0\n",
    "# -1  1   1   1     1\n",
    "#  1 -1   1   1     2\n",
    "#  1  1   1   1     3\n",
    "# -1 -1   1   2     4\n",
    "# -1  1   1   2     5\n",
    "#  1 -1   1   2     6\n",
    "#  1  1   1   2     7\n",
    "# -1 -1   2   1     8\n",
    "# -1  1   2   1     9\n",
    "#  1 -1   2   1     10\n",
    "#  1  1   2   1     11\n",
    "# -1 -1   2   2     12\n",
    "# -1  1   2   2     13\n",
    "#  1 -1   2   2     14\n",
    "#  1  1   2   2     15\n",
    "def index(a, b, x, y, n):\n",
    "    index = 0\n",
    "    for xT in range(1, n+1):\n",
    "        for yT in range(1, n+1):\n",
    "            for aT, bT in iters([-1, 1], repeat = 2): \n",
    "                if aT == a and bT == b and xT == x and yT == y:\n",
    "                    return index\n",
    "                index += 1\n",
    "\n",
    "def AB(x, y, P, n):\n",
    "    result = 0\n",
    "    for a, b in iters([-1, 1], repeat = 2): \n",
    "        result += P[index(a, b, x, y, n),0] * a * b\n",
    "    return result\n",
    "\n",
    "def getB(P,n):\n",
    "    t1 = 0\n",
    "    for i in range(0, n+1):\n",
    "        t1 += AB(i, i, P, n)\n",
    "    t2 = 0\n",
    "    for i in range(0, n-1, P):\n",
    "        t2 += AB(i+1, i, n)\n",
    "    t3 = AB(1, n, P) \n",
    "    return t1 + t2 - t3"
   ]
  },
  {
   "cell_type": "code",
   "execution_count": 127,
   "metadata": {},
   "outputs": [],
   "source": [
    "# Problem 1 - Solving for Bell functionals\n",
    "n = 2 # 2 should give the CHSH parameter sqrt(2)\n",
    "# Variables\n",
    "sizeOfP = 2 * 2 * n * n \n",
    "P = cp.Variable((sizeOfP, 1))"
   ]
  },
  {
   "cell_type": "code",
   "execution_count": 128,
   "metadata": {},
   "outputs": [
    {
     "ename": "TypeError",
     "evalue": "'Variable' object cannot be interpreted as an integer",
     "output_type": "error",
     "traceback": [
      "\u001b[1;31m---------------------------------------------------------------------------\u001b[0m",
      "\u001b[1;31mTypeError\u001b[0m                                 Traceback (most recent call last)",
      "Cell \u001b[1;32mIn [128], line 4\u001b[0m\n\u001b[0;32m      2\u001b[0m constraints \u001b[39m=\u001b[39m [cp\u001b[39m.\u001b[39mnorm(P, \u001b[39m1\u001b[39m) \u001b[39m==\u001b[39m \u001b[39m1\u001b[39m, P \u001b[39m>\u001b[39m\u001b[39m=\u001b[39m \u001b[39m0\u001b[39m]\n\u001b[0;32m      3\u001b[0m \u001b[39m# Function to be maximized\u001b[39;00m\n\u001b[1;32m----> 4\u001b[0m objective \u001b[39m=\u001b[39m getB(P, n)\n\u001b[0;32m      5\u001b[0m prob \u001b[39m=\u001b[39m cp\u001b[39m.\u001b[39mProblem(cp\u001b[39m.\u001b[39mMaximize(objective), constraints)\n\u001b[0;32m      6\u001b[0m \u001b[39mprint\u001b[39m(prob\u001b[39m.\u001b[39msolve())\n",
      "Cell \u001b[1;32mIn [126], line 42\u001b[0m, in \u001b[0;36mgetB\u001b[1;34m(P, n)\u001b[0m\n\u001b[0;32m     40\u001b[0m     t1 \u001b[39m+\u001b[39m\u001b[39m=\u001b[39m AB(i, i, P, n)\n\u001b[0;32m     41\u001b[0m t2 \u001b[39m=\u001b[39m \u001b[39m0\u001b[39m\n\u001b[1;32m---> 42\u001b[0m \u001b[39mfor\u001b[39;00m i \u001b[39min\u001b[39;00m \u001b[39mrange\u001b[39;49m(\u001b[39m0\u001b[39;49m, n\u001b[39m-\u001b[39;49m\u001b[39m1\u001b[39;49m, P):\n\u001b[0;32m     43\u001b[0m     t2 \u001b[39m+\u001b[39m\u001b[39m=\u001b[39m AB(i\u001b[39m+\u001b[39m\u001b[39m1\u001b[39m, i, n)\n\u001b[0;32m     44\u001b[0m t3 \u001b[39m=\u001b[39m AB(\u001b[39m1\u001b[39m, n, P) \n",
      "\u001b[1;31mTypeError\u001b[0m: 'Variable' object cannot be interpreted as an integer"
     ]
    }
   ],
   "source": [
    "\n",
    "# Constraints\n",
    "constraints = [cp.norm(P, 1) == 1, P >= 0]\n",
    "# Function to be maximized\n",
    "objective = getB(P, n)\n",
    "prob = cp.Problem(cp.Maximize(objective), constraints)\n",
    "print(prob.solve())"
   ]
  },
  {
   "cell_type": "code",
   "execution_count": 105,
   "metadata": {},
   "outputs": [
    {
     "name": "stdout",
     "output_type": "stream",
     "text": [
      "a:  -1 b:  -1 x:  1 y:  1 index:  0\n",
      "a:  -1 b:  1 x:  1 y:  1 index:  1\n",
      "a:  1 b:  -1 x:  1 y:  1 index:  2\n",
      "a:  1 b:  1 x:  1 y:  1 index:  3\n",
      "a:  -1 b:  -1 x:  1 y:  2 index:  4\n",
      "a:  -1 b:  1 x:  1 y:  2 index:  5\n",
      "a:  1 b:  -1 x:  1 y:  2 index:  6\n",
      "a:  1 b:  1 x:  1 y:  2 index:  7\n",
      "a:  -1 b:  -1 x:  2 y:  1 index:  8\n",
      "a:  -1 b:  1 x:  2 y:  1 index:  9\n",
      "a:  1 b:  -1 x:  2 y:  1 index:  10\n",
      "a:  1 b:  1 x:  2 y:  1 index:  11\n",
      "a:  -1 b:  -1 x:  2 y:  2 index:  12\n",
      "a:  -1 b:  1 x:  2 y:  2 index:  13\n",
      "a:  1 b:  -1 x:  2 y:  2 index:  14\n",
      "a:  1 b:  1 x:  2 y:  2 index:  15\n",
      "Length of the P vector is:  16 counter:  16\n"
     ]
    }
   ],
   "source": [
    "counter = 0\n",
    "for x in range(1, n+1):\n",
    "    for y in range(1, n+1):\n",
    "        for a, b in iters([-1, 1], repeat = 2): \n",
    "            print(\"a: \", a, \"b: \", b, \"x: \", x, \"y: \", y, \"index: \", index(a,b,x,y,n))\n",
    "            counter += 1\n",
    "print(\"Length of the P vector is: \", sizeOfP, \"counter: \", counter)"
   ]
  },
  {
   "cell_type": "code",
   "execution_count": 88,
   "metadata": {},
   "outputs": [
    {
     "data": {
      "text/plain": [
       "-1"
      ]
     },
     "execution_count": 88,
     "metadata": {},
     "output_type": "execute_result"
    }
   ],
   "source": []
  },
  {
   "cell_type": "code",
   "execution_count": null,
   "metadata": {},
   "outputs": [],
   "source": []
  }
 ],
 "metadata": {
  "kernelspec": {
   "display_name": "Python 3.10.9 64-bit (microsoft store)",
   "language": "python",
   "name": "python3"
  },
  "language_info": {
   "codemirror_mode": {
    "name": "ipython",
    "version": 3
   },
   "file_extension": ".py",
   "mimetype": "text/x-python",
   "name": "python",
   "nbconvert_exporter": "python",
   "pygments_lexer": "ipython3",
   "version": "3.10.9"
  },
  "orig_nbformat": 4,
  "vscode": {
   "interpreter": {
    "hash": "3b7e9cb8e453d6cda0fe8c8dd13f891a1f09162f0e7c66ffeae7751a7aecf00d"
   }
  }
 },
 "nbformat": 4,
 "nbformat_minor": 2
}
