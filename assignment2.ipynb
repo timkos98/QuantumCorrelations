{
 "cells": [
  {
   "cell_type": "code",
   "execution_count": 9,
   "metadata": {},
   "outputs": [],
   "source": [
    "import cvxpy as cp\n",
    "import numpy as np\n",
    "import itertools\n",
    "from itertools import product as iters"
   ]
  },
  {
   "cell_type": "code",
   "execution_count": 111,
   "metadata": {},
   "outputs": [
    {
     "name": "stdout",
     "output_type": "stream",
     "text": [
      "At n=2\n",
      "optimal value with OSQP: 2.0\n",
      "optimal value with ECOS: 1.9999999999775775\n",
      "optimal value with SCS: 2.0000098849124495\n",
      "optimal value with SciPy/HiGHS: 2.0\n",
      "At n= 3  \n",
      "optimal value with OSQP: inf\n",
      "optimal value with ECOS: inf\n",
      "optimal value with SCS: inf\n",
      "optimal value with SciPy/HiGHS: inf\n",
      "At n= 4  \n",
      "optimal value with OSQP: inf\n",
      "optimal value with ECOS: inf\n",
      "optimal value with SCS: inf\n",
      "optimal value with SciPy/HiGHS: inf\n",
      "At n= 5  \n",
      "optimal value with OSQP: inf\n",
      "optimal value with ECOS: inf\n",
      "optimal value with SCS: inf\n",
      "optimal value with SciPy/HiGHS: inf\n",
      "At n= 6  \n",
      "optimal value with OSQP: inf\n",
      "optimal value with ECOS: inf\n",
      "optimal value with SCS: inf\n",
      "optimal value with SciPy/HiGHS: inf\n"
     ]
    }
   ],
   "source": [
    "# Problem 1 - Solving for Bell functionals\n",
    "n = 2 # 2 should give the CHSH parameter \n",
    "# Variables\n",
    "sizeOfP = 2 * 2 * n * n \n",
    "P = cp.Variable(sizeOfP)\n",
    "\n",
    "# Constraints\n",
    "constraints = [P >= 0, cp.sum(P) == n*2]\n",
    "for a, b in iters([-1, 1], repeat = 2):\n",
    "    constraints += [cp.sum(findCombinationsOf_ab(P, a, b, n)) == 1]\n",
    "for xT in range(1, n + 1):\n",
    "    for yT in range(1, n + 1):\n",
    "        constraints += [cp.sum(findCombinationsOf_xy(P, xT, yT, n)) == 2/n]\n",
    "\n",
    "# Function to be maximized\n",
    "prob = cp.Problem(cp.Maximize(getB(P, n)), constraints)\n",
    "print(\"At n=2\")\n",
    "useAllSolvers(prob, False)\n",
    "for i in range(3, 7):\n",
    "    print(\"At n=\", i, \" \")\n",
    "    sizeOfP = 2 * 2 * i * i \n",
    "    P = cp.Variable(sizeOfP)\n",
    "    prob = cp.Problem(cp.Maximize(getB(P, i)), constraints)\n",
    "    useAllSolvers(prob, True)"
   ]
  },
  {
   "attachments": {},
   "cell_type": "markdown",
   "metadata": {},
   "source": [
    "**The above approach failed, trying a different**"
   ]
  },
  {
   "cell_type": "code",
   "execution_count": 119,
   "metadata": {},
   "outputs": [
    {
     "name": "stdout",
     "output_type": "stream",
     "text": [
      "[[ 1. -1.]\n",
      " [ 1.  1.]]\n",
      "At n =  2 : Max val =  2.828427124639426\n",
      "[[ 1.  0. -1.]\n",
      " [ 1.  1.  0.]\n",
      " [ 0.  1.  1.]]\n",
      "At n =  3 : Max val =  5.196152427563782\n",
      "[[ 1.  0.  0. -1.]\n",
      " [ 1.  1.  0.  0.]\n",
      " [ 0.  1.  1.  0.]\n",
      " [ 0.  0.  1.  1.]]\n",
      "At n =  4 : Max val =  7.391037008387394\n",
      "[[ 1.  0.  0.  0. -1.]\n",
      " [ 1.  1.  0.  0.  0.]\n",
      " [ 0.  1.  1.  0.  0.]\n",
      " [ 0.  0.  1.  1.  0.]\n",
      " [ 0.  0.  0.  1.  1.]]\n",
      "At n =  5 : Max val =  9.510593333353807\n",
      "[[ 1.  0.  0.  0.  0. -1.]\n",
      " [ 1.  1.  0.  0.  0.  0.]\n",
      " [ 0.  1.  1.  0.  0.  0.]\n",
      " [ 0.  0.  1.  1.  0.  0.]\n",
      " [ 0.  0.  0.  1.  1.  0.]\n",
      " [ 0.  0.  0.  0.  1.  1.]]\n",
      "At n =  6 : Max val =  11.591107813376762\n"
     ]
    }
   ],
   "source": [
    "def getGamma(P, n):\n",
    "    zeroMat = np.zeros((n, n))\n",
    "    return np.block([[zeroMat, P.T], [P, zeroMat]])\n",
    "\n",
    "def getP(n):\n",
    "    P = np.zeros((n, n))\n",
    "    # Diagonal ones\n",
    "    for i in range(0, n):\n",
    "        P[i, i] = 1\n",
    "    for i in range(0, n - 1):\n",
    "        P[i + 1, i] = 1\n",
    "    P[0, n - 1] = -1\n",
    "    print(P)\n",
    "    return P\n",
    "\n",
    "# Now for all n values...\n",
    "for n in range(2, 7):\n",
    "    P = getP(n)\n",
    "    gamma = getGamma(P, n)\n",
    "\n",
    "    # Set Positive semi-definite constrain with the one built into cvxpy\n",
    "    X = cp.Variable((2 * n, 2* n), PSD=True)\n",
    "\n",
    "    #  Build diagonal constrains\n",
    "    constraints =[]\n",
    "    for i in range(0, 2 * n):\n",
    "        constraints += [X[i, i] == 1]\n",
    "    \n",
    "    obj = cp.Maximize(cp.trace(gamma @ X) / 2)\n",
    "    prob = cp.Problem(obj, constraints)\n",
    "    print(\"At n = \", n, \": Max val = \", prob.solve() )"
   ]
  },
  {
   "attachments": {},
   "cell_type": "markdown",
   "metadata": {},
   "source": [
    "# Problem 2\n",
    "\n",
    "The condition for information causality is given by\n",
    "$$\n",
    "    \\sum_y I(b:X_y) \\le m = 1\n",
    "$$\n",
    "where \n",
    "$$\n",
    "    I(b:X_y) = H(b) - H(X_y) - H(b, X_y)\n",
    "$$\n",
    "with H(b, X_y) is the joint distribution and $I(b:X_y) = I(b:X_0) + I(b:X_1)$\n",
    "\n",
    "Entropy $H(x)$ is given by $H(x) = -P(x)log_2 (P(x))$ which then for\n",
    "$$\n",
    "    H(b, X_y) = - \\sum_{b, y} P(b, X_y) log_2(P(b, X_y))\n",
    "$$\n",
    "\n",
    "Solving this with sympy"
   ]
  },
  {
   "cell_type": "code",
   "execution_count": 6,
   "metadata": {},
   "outputs": [],
   "source": [
    "import sympy as sy\n",
    "from sympy.abc import a,b,x,y,l\n",
    "from sympy import DiracDelta"
   ]
  },
  {
   "cell_type": "code",
   "execution_count": 32,
   "metadata": {},
   "outputs": [],
   "source": [
    "x0 = sy.Symbol(\"x_0\")\n",
    "x1 = sy.Symbol(\"x_1\")\n",
    "l = sy.Symbol(\"λ\")"
   ]
  },
  {
   "cell_type": "code",
   "execution_count": 33,
   "metadata": {},
   "outputs": [],
   "source": [
    "# Entropy\n",
    "def H(x):\n",
    "    return -x*sy.log(x, 2)\n",
    "\n",
    "# A uniform distribution\n",
    "def P_uni():\n",
    "    return 1/2\n",
    "\n",
    "# An isotropic distribution\n",
    "def P_iso(a, b, x, y, l):\n",
    "    p1 = DiracDelta(((a + b) % 2) - x * y)\n",
    "    p0 = DiracDelta(((a + b + 1) % 2) - x * y)\n",
    "    return ((l * p1 + (1 - l) * p0) / 2).subs(DiracDelta(0), 1)\n",
    "\n",
    "HX_0 = np.sum(np.array([H(P_uni()) for n in range(0, 2)])).evalf()\n"
   ]
  },
  {
   "cell_type": "code",
   "execution_count": 34,
   "metadata": {},
   "outputs": [
    {
     "data": {
      "text/latex": [
       "$\\displaystyle 1.0$"
      ],
      "text/plain": [
       "1.00000000000000"
      ]
     },
     "execution_count": 34,
     "metadata": {},
     "output_type": "execute_result"
    }
   ],
   "source": [
    "HX_0 # Sanity check"
   ]
  },
  {
   "cell_type": "code",
   "execution_count": 35,
   "metadata": {},
   "outputs": [],
   "source": [
    "HX_1 = HX_0\n",
    "HX_01 = HX_0 + HX_1\n",
    "\n",
    "# For y = 0\n",
    "y = 0 \n",
    "P_00 = 0\n",
    "P_10 = 0\n",
    "for a, b, X_0 in iters([0, 1], repeat = 3):\n",
    "    if a ^ b ^ X_0 == 0:\n",
    "        P_00 += P_iso(a, b, X_0, y, 1) / 2\n",
    "    elif a ^ b ^ X_0 == 1:\n",
    "        P_10 += P_iso(a, b, X_0, y, 1) / 2\n"
   ]
  },
  {
   "cell_type": "code",
   "execution_count": 36,
   "metadata": {},
   "outputs": [
    {
     "name": "stdout",
     "output_type": "stream",
     "text": [
      "1/2 1/2\n"
     ]
    }
   ],
   "source": [
    "# Check results\n",
    "print(P_00, P_10)"
   ]
  },
  {
   "cell_type": "code",
   "execution_count": 37,
   "metadata": {},
   "outputs": [],
   "source": [
    "# Now for y = 1\n",
    "# For y = 0\n",
    "y = 0 \n",
    "P_01 = 0\n",
    "P_11 = 0\n",
    "for a, b, X_0 in iters([0, 1], repeat = 3):\n",
    "    if a ^ b ^ X_0 == 0:\n",
    "        P_01 += P_iso(a, b, X_0, y, l) / 2\n",
    "    elif a ^ b ^ X_0 == 1:\n",
    "        P_11 += P_iso(a, b, X_0, y, l) / 2"
   ]
  },
  {
   "cell_type": "code",
   "execution_count": 38,
   "metadata": {},
   "outputs": [
    {
     "name": "stdout",
     "output_type": "stream",
     "text": [
      "1/2 1/2\n"
     ]
    }
   ],
   "source": [
    "# Check results\n",
    "print(P_10, P_11)"
   ]
  },
  {
   "cell_type": "code",
   "execution_count": 39,
   "metadata": {},
   "outputs": [],
   "source": [
    "Hb = sy.Matrix([H(P_00), H(P_01), H(P_10), H(P_11)])"
   ]
  },
  {
   "cell_type": "code",
   "execution_count": 40,
   "metadata": {},
   "outputs": [
    {
     "name": "stdout",
     "output_type": "stream",
     "text": [
      "Matrix([[1/2], [1/2], [1/2], [1/2]])\n"
     ]
    }
   ],
   "source": [
    "print(Hb)"
   ]
  },
  {
   "cell_type": "code",
   "execution_count": 41,
   "metadata": {},
   "outputs": [],
   "source": [
    "# Now the joint distribution for y = 0\n",
    "y = 0\n",
    "jointP_0 = []\n",
    "for bT, X_0 in iters([0, 1], repeat=2):\n",
    "    t = 0\n",
    "    for a, b in iters([0, 1], repeat=2):\n",
    "        if a ^ b ^ X_0 == bT:\n",
    "            t += P_iso(a, b, X_0, y, l) / 2\n",
    "    jointP_0.append(t)"
   ]
  },
  {
   "cell_type": "code",
   "execution_count": 45,
   "metadata": {},
   "outputs": [],
   "source": [
    "# And for y = 1\n",
    "y = 1\n",
    "jointP_1 = []\n",
    "for bT, X_1 in iters([0, 1], repeat=2):\n",
    "    t = 0\n",
    "    for a, b in iters([0, 1], repeat=2):\n",
    "        if a ^ b ^ X_1 == bT:\n",
    "            t += P_iso(a, b, X_1, y, l) / 2\n",
    "    jointP_1.append(t)"
   ]
  },
  {
   "cell_type": "code",
   "execution_count": 49,
   "metadata": {},
   "outputs": [
    {
     "data": {
      "text/latex": [
       "$\\displaystyle \\left[\\begin{matrix}\\frac{λ}{2}\\\\\\frac{1}{2} - \\frac{λ}{2}\\\\\\frac{1}{2} - \\frac{λ}{2}\\\\\\frac{λ}{2}\\end{matrix}\\right]$"
      ],
      "text/plain": [
       "Matrix([\n",
       "[      λ/2],\n",
       "[1/2 - λ/2],\n",
       "[1/2 - λ/2],\n",
       "[      λ/2]])"
      ]
     },
     "execution_count": 49,
     "metadata": {},
     "output_type": "execute_result"
    }
   ],
   "source": [
    "sy.Matrix(jointP_0) "
   ]
  },
  {
   "cell_type": "code",
   "execution_count": 50,
   "metadata": {},
   "outputs": [
    {
     "data": {
      "text/latex": [
       "$\\displaystyle \\left[\\begin{matrix}\\frac{λ}{2}\\\\\\frac{λ}{2}\\\\\\frac{1}{2} - \\frac{λ}{2}\\\\\\frac{1}{2} - \\frac{λ}{2}\\end{matrix}\\right]$"
      ],
      "text/plain": [
       "Matrix([\n",
       "[      λ/2],\n",
       "[      λ/2],\n",
       "[1/2 - λ/2],\n",
       "[1/2 - λ/2]])"
      ]
     },
     "execution_count": 50,
     "metadata": {},
     "output_type": "execute_result"
    }
   ],
   "source": [
    "sy.Matrix(jointP_1)"
   ]
  },
  {
   "cell_type": "code",
   "execution_count": 51,
   "metadata": {},
   "outputs": [],
   "source": [
    "# Calculate the joint entropies\n",
    "H_j0 = 0\n",
    "H_j1 = 0\n",
    "for i in range(0, 4):\n",
    "    H_j0 += H(jointP_0[i])\n",
    "    H_j1 += H(jointP_1[i])"
   ]
  },
  {
   "cell_type": "code",
   "execution_count": 52,
   "metadata": {},
   "outputs": [
    {
     "data": {
      "text/latex": [
       "$\\displaystyle - \\frac{λ \\log{\\left(\\frac{λ}{2} \\right)}}{\\log{\\left(2 \\right)}} + \\frac{2 \\left(\\frac{λ}{2} - \\frac{1}{2}\\right) \\log{\\left(\\frac{1}{2} - \\frac{λ}{2} \\right)}}{\\log{\\left(2 \\right)}}$"
      ],
      "text/plain": [
       "-λ*log(λ/2)/log(2) + 2*(λ/2 - 1/2)*log(1/2 - λ/2)/log(2)"
      ]
     },
     "execution_count": 52,
     "metadata": {},
     "output_type": "execute_result"
    }
   ],
   "source": [
    "H_j0"
   ]
  },
  {
   "cell_type": "code",
   "execution_count": 53,
   "metadata": {},
   "outputs": [
    {
     "data": {
      "text/latex": [
       "$\\displaystyle - \\frac{λ \\log{\\left(\\frac{λ}{2} \\right)}}{\\log{\\left(2 \\right)}} + \\frac{2 \\left(\\frac{λ}{2} - \\frac{1}{2}\\right) \\log{\\left(\\frac{1}{2} - \\frac{λ}{2} \\right)}}{\\log{\\left(2 \\right)}}$"
      ],
      "text/plain": [
       "-λ*log(λ/2)/log(2) + 2*(λ/2 - 1/2)*log(1/2 - λ/2)/log(2)"
      ]
     },
     "execution_count": 53,
     "metadata": {},
     "output_type": "execute_result"
    }
   ],
   "source": [
    "H_j1"
   ]
  },
  {
   "attachments": {},
   "cell_type": "markdown",
   "metadata": {},
   "source": [
    "Rewriting this as $H_{joint} = 1 - \\lambda log_2 (\\lambda) + (\\lambda - 1) log_2 (1- \\lambda)$ leads to\n",
    "$$\n",
    "    I(b:X_i) = 1- \\lambda log_2(\\lambda) + (1-\\lambda)log_2(1-\\lambda)\n",
    "$$\n",
    "Which, after evaluating using the constraint inequality from the beginning yields:\n",
    "$$\n",
    "    0.110028 \\lt \\lambda \\lt 0.889972\n",
    "$$\n",
    "This is the range in which the inequality holds true!\n",
    "\n",
    "Now, given an isotropic box:\n",
    "$$ \n",
    "CHSH(P) = \\mu\n",
    "$$\n",
    "with $\\lambda = \\mu / 8 + 1/2$. This gives $\\mu = 8 * \\lambda - 4$\n",
    "which for the maximum violation 0.889972 yields: "
   ]
  },
  {
   "cell_type": "code",
   "execution_count": 56,
   "metadata": {},
   "outputs": [
    {
     "data": {
      "text/plain": [
       "3.119776"
      ]
     },
     "execution_count": 56,
     "metadata": {},
     "output_type": "execute_result"
    }
   ],
   "source": [
    "8 * 0.889972 - 4"
   ]
  },
  {
   "attachments": {},
   "cell_type": "markdown",
   "metadata": {},
   "source": [
    "*Exceeds Tsirelsons bound without violating Information Causality!*"
   ]
  }
 ],
 "metadata": {
  "kernelspec": {
   "display_name": "Python 3.10.9 64-bit (microsoft store)",
   "language": "python",
   "name": "python3"
  },
  "language_info": {
   "codemirror_mode": {
    "name": "ipython",
    "version": 3
   },
   "file_extension": ".py",
   "mimetype": "text/x-python",
   "name": "python",
   "nbconvert_exporter": "python",
   "pygments_lexer": "ipython3",
   "version": "3.10.9"
  },
  "orig_nbformat": 4,
  "vscode": {
   "interpreter": {
    "hash": "3b7e9cb8e453d6cda0fe8c8dd13f891a1f09162f0e7c66ffeae7751a7aecf00d"
   }
  }
 },
 "nbformat": 4,
 "nbformat_minor": 2
}
